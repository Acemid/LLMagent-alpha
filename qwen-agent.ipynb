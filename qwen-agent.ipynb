{
 "cells": [
  {
   "cell_type": "markdown",
   "metadata": {},
   "source": [
    "# agent built with langchain&qwen"
   ]
  },
  {
   "cell_type": "code",
   "execution_count": null,
   "metadata": {},
   "outputs": [],
   "source": [
    "import os\n",
    "import json\n",
    "from langchain_community.tools.tavily_search import TavilySearchResults\n",
    "from modelscope import AutoTokenizer,AutoModelForCausalLM\n",
    "\n",
    "os.environ['TAVILY_API_KEY']='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'    # travily搜索引擎api key"
   ]
  },
  {
   "cell_type": "markdown",
   "metadata": {},
   "source": [
    "llm"
   ]
  },
  {
   "cell_type": "code",
   "execution_count": null,
   "metadata": {},
   "outputs": [],
   "source": [
    "model_name='qwen/Qwen-14B-Chat-Int4'\n",
    "tokenizer = AutoTokenizer.from_pretrained(model_name,trust_remote_code=True)\n",
    "llm=AutoModelForCausalLM.from_pretrained(model_name,device_map=\"auto\",trust_remote_code=True).eval()"
   ]
  },
  {
   "cell_type": "markdown",
   "metadata": {},
   "source": [
    "tools"
   ]
  },
  {
   "cell_type": "code",
   "execution_count": null,
   "metadata": {},
   "outputs": [],
   "source": [
    "tools=[\n",
    "    TavilySearchResults(max_results=5), # travily搜索引擎\n",
    "]  \n",
    "tool_names='or'.join([tool.name for tool in tools])  # 拼接工具名\n",
    "tool_descs=[] # 拼接工具详情\n",
    "for t in tools:\n",
    "    args_desc=[]\n",
    "    for name,info in t.args.items():\n",
    "        args_desc.append({'name':name,'description':info['description'],'type':info['type']})\n",
    "    args_desc=json.dumps(args_desc,ensure_ascii=False)\n",
    "    tool_descs.append('%s: %s,args: %s'%(t.name,t.description,args_desc))\n",
    "tool_descs='\\n'.join(tool_descs)"
   ]
  },
  {
   "cell_type": "code",
   "execution_count": null,
   "metadata": {},
   "outputs": [],
   "source": [
    "print(tool_names)\n",
    "print(tool_descs)"
   ]
  },
  {
   "cell_type": "markdown",
   "metadata": {},
   "source": [
    "prompt"
   ]
  },
  {
   "cell_type": "code",
   "execution_count": null,
   "metadata": {},
   "outputs": [],
   "source": [
    "chat_history=[]\n",
    "prompt_tpl='''Answer the following questions as best you can. You have access to the following tools:\n",
    "\n",
    "{tool_descs}\n",
    "\n",
    "Use the following format:\n",
    "\n",
    "Question: the input question you must answer\n",
    "Thought: you should always think about what to do\n",
    "Action: the action to take, should be one of [{tool_names}]\n",
    "Action Input: the input to the action\n",
    "Observation: the result of the action\n",
    "... (this Thought/Action/Action Input/Observation can be repeated zero or more times)\n",
    "Thought: I now know the final answer\n",
    "Final Answer: the final answer to the original input question\n",
    "\n",
    "Begin!\n",
    "\n",
    "Question: {query}\n",
    "{agent_scratchpad}\n",
    "'''"
   ]
  },
  {
   "cell_type": "code",
   "execution_count": null,
   "metadata": {},
   "outputs": [],
   "source": [
    "# 测试prompt\n",
    "prompt=prompt_tpl.format(tool_descs=tool_descs,tool_names=tool_names,query='查一下明天青岛的天气',agent_scratchpad='')\n",
    "print(prompt)"
   ]
  },
  {
   "cell_type": "markdown",
   "metadata": {},
   "source": [
    "agent execution"
   ]
  },
  {
   "cell_type": "code",
   "execution_count": null,
   "metadata": {},
   "outputs": [],
   "source": [
    "def agent_execute(query,chat_history=[]):\n",
    "    global tools,tool_names,tool_descs,prompt_tpl,llm,tokenizer\n",
    "    \n",
    "    agent_scratchpad='' # agent执行过程\n",
    "    while True:\n",
    "        # 保留最近的历史对话，控制显存\n",
    "        chat_history=chat_history[-3:]\n",
    "        # 1）触发llm思考下一步action\n",
    "        prompt=prompt_tpl.format(tool_descs=tool_descs,tool_names=tool_names,query=query,agent_scratchpad=agent_scratchpad)\n",
    "        print('prompt: %s\\n\\033[32magent正在思考... ...'%prompt)\n",
    "        response,chat_history=llm.chat(tokenizer,prompt,history=chat_history,stop_words_ids=[tokenizer.encode('Observation:')],top_k=1) # 模型稳定返回，即只选择概率最高的token\n",
    "        print('---LLM raw response\\n%s\\n\\033[0m---'%response)\n",
    "        # 2）解析thought+action+action input+observation or thought+final answer\n",
    "        thought_i=response.rfind('Thought:')\n",
    "        final_answer_i=response.rfind('\\nFinal Answer:')\n",
    "        action_i=response.rfind('\\nAction:')\n",
    "        action_input_i=response.rfind('\\nAction Input:')\n",
    "        observation_i=response.rfind('\\nObservation:')\n",
    "        # 3）返回final answer，执行完成\n",
    "        if final_answer_i!=-1 and thought_i<final_answer_i:\n",
    "            print('\\033[34mfinal answer: \\033[0m%s\\n\\033[34m\\n'%(response[final_answer_i+len('\\nFinal Answer:'):]))\n",
    "            return True,response[final_answer_i+len('\\nFinal Answer:'):],chat_history\n",
    "        # 4）解析action\n",
    "        if not (thought_i<action_i<action_input_i<observation_i):\n",
    "            print('\\033[31m LLM回复格式异常, 放弃继续思考.\\nresponse:%s\\n \\033[0m'%response)\n",
    "            return False,'LLM回复格式异常',chat_history\n",
    "        thought=response[thought_i+len('Thought:'):action_i].strip()\n",
    "        action=response[action_i+len('\\nAction:'):action_input_i].strip()\n",
    "        action_input=response[action_input_i+len('\\nAction Input:'):observation_i].strip()\n",
    "        print('\\033[34mthought: \\033[0m%s\\n\\033[34maction: \\033[0m%s\\n\\033[34maction_input: \\033[0m%s\\n'%(thought,action,action_input))\n",
    "        # 5）匹配tool\n",
    "        the_tool=None\n",
    "        for t in tools:\n",
    "            if t.name==action:\n",
    "                the_tool=t\n",
    "                break\n",
    "        if the_tool is None:\n",
    "            observation='the tool not exist'\n",
    "            agent_scratchpad=agent_scratchpad+response+observation+'\\n'\n",
    "            continue \n",
    "        # 6）执行tool\n",
    "        try:\n",
    "            action_input=json.loads(action_input)\n",
    "            tool_ret=the_tool.invoke(input=action_input)\n",
    "        except Exception as e:\n",
    "            observation='the tool has error:{}, we can try once more'.format(e)\n",
    "        else:\n",
    "            observation=str(tool_ret)\n",
    "        agent_scratchpad=agent_scratchpad+response+observation+'\\n'"
   ]
  },
  {
   "cell_type": "markdown",
   "metadata": {},
   "source": [
    "test"
   ]
  },
  {
   "cell_type": "code",
   "execution_count": null,
   "metadata": {},
   "outputs": [],
   "source": [
    "my_history=[]\n",
    "while True:\n",
    "    query=input('query:')\n",
    "    success,result,my_history=agent_execute(query,chat_history=my_history)\n",
    "    my_history=my_history[-3:]"
   ]
  }
 ],
 "metadata": {
  "kernelspec": {
   "display_name": "agent",
   "language": "python",
   "name": "python3"
  },
  "language_info": {
   "codemirror_mode": {
    "name": "ipython",
    "version": 3
   },
   "file_extension": ".py",
   "mimetype": "text/x-python",
   "name": "python",
   "nbconvert_exporter": "python",
   "pygments_lexer": "ipython3",
   "version": "3.10.13"
  }
 },
 "nbformat": 4,
 "nbformat_minor": 2
}
